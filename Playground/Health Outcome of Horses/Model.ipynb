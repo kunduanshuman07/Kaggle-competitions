{
 "cells": [
  {
   "cell_type": "code",
   "execution_count": 205,
   "metadata": {},
   "outputs": [
    {
     "name": "stderr",
     "output_type": "stream",
     "text": [
      "\n",
      "  0%|          | 0.00/59.7k [00:00<?, ?B/s]\n",
      "100%|██████████| 59.7k/59.7k [00:00<00:00, 186kB/s]\n",
      "100%|██████████| 59.7k/59.7k [00:00<00:00, 181kB/s]\n"
     ]
    },
    {
     "name": "stdout",
     "output_type": "stream",
     "text": [
      "Downloading playground-series-s3e22.zip to c:\\Users\\anshuman.kundu1\\Desktop\\Kaggle\\Playground\\Health Outcome of Horses\n",
      "\n"
     ]
    }
   ],
   "source": [
    "import kaggle\n",
    "!kaggle competitions download -c playground-series-s3e22"
   ]
  },
  {
   "cell_type": "code",
   "execution_count": 206,
   "metadata": {},
   "outputs": [],
   "source": [
    "# from zipfile import ZipFile\n",
    "# file_path = 'playground-series-s3e22.zip'\n",
    "# with ZipFile(file_path, 'r') as zip:\n",
    "#     zip.extractall()"
   ]
  },
  {
   "cell_type": "code",
   "execution_count": 290,
   "metadata": {},
   "outputs": [],
   "source": [
    "import pandas as pd\n",
    "import numpy as np"
   ]
  },
  {
   "cell_type": "code",
   "execution_count": 291,
   "metadata": {},
   "outputs": [],
   "source": [
    "train_df = pd.read_csv('train.csv')\n",
    "test_df = pd.read_csv('test.csv')"
   ]
  },
  {
   "cell_type": "code",
   "execution_count": 292,
   "metadata": {},
   "outputs": [
    {
     "data": {
      "text/plain": [
       "(1232, 29)"
      ]
     },
     "execution_count": 292,
     "metadata": {},
     "output_type": "execute_result"
    }
   ],
   "source": [
    "train_df = train_df[train_df['peristalsis'] != 'distend_small']\n",
    "train_df = train_df[train_df['nasogastric_reflux'] != 'slight']\n",
    "train_df = train_df[train_df['rectal_exam_feces'] != 'serosanguious']\n",
    "train_df['outcome'].replace({'died': 0, 'euthanized': 1, 'lived': 2}, inplace=True)\n",
    "train_df.shape"
   ]
  },
  {
   "cell_type": "code",
   "execution_count": 293,
   "metadata": {},
   "outputs": [],
   "source": [
    "df1 = train_df.drop(columns=['id', 'hospital_number', 'outcome'], axis = 1)\n",
    "df2 = test_df.drop(columns=['id', 'hospital_number'], axis = 1)"
   ]
  },
  {
   "cell_type": "code",
   "execution_count": 294,
   "metadata": {},
   "outputs": [
    {
     "name": "stdout",
     "output_type": "stream",
     "text": [
      "<class 'pandas.core.frame.DataFrame'>\n",
      "Index: 1232 entries, 0 to 1234\n",
      "Data columns (total 26 columns):\n",
      " #   Column                 Non-Null Count  Dtype  \n",
      "---  ------                 --------------  -----  \n",
      " 0   surgery                1232 non-null   object \n",
      " 1   age                    1232 non-null   object \n",
      " 2   rectal_temp            1232 non-null   float64\n",
      " 3   pulse                  1232 non-null   float64\n",
      " 4   respiratory_rate       1232 non-null   float64\n",
      " 5   temp_of_extremities    1193 non-null   object \n",
      " 6   peripheral_pulse       1172 non-null   object \n",
      " 7   mucous_membrane        1211 non-null   object \n",
      " 8   capillary_refill_time  1226 non-null   object \n",
      " 9   pain                   1188 non-null   object \n",
      " 10  peristalsis            1212 non-null   object \n",
      " 11  abdominal_distention   1209 non-null   object \n",
      " 12  nasogastric_tube       1152 non-null   object \n",
      " 13  nasogastric_reflux     1211 non-null   object \n",
      " 14  nasogastric_reflux_ph  1232 non-null   float64\n",
      " 15  rectal_exam_feces      1043 non-null   object \n",
      " 16  abdomen                1019 non-null   object \n",
      " 17  packed_cell_volume     1232 non-null   float64\n",
      " 18  total_protein          1232 non-null   float64\n",
      " 19  abdomo_appearance      1184 non-null   object \n",
      " 20  abdomo_protein         1232 non-null   float64\n",
      " 21  surgical_lesion        1232 non-null   object \n",
      " 22  lesion_1               1232 non-null   int64  \n",
      " 23  lesion_2               1232 non-null   int64  \n",
      " 24  lesion_3               1232 non-null   int64  \n",
      " 25  cp_data                1232 non-null   object \n",
      "dtypes: float64(7), int64(3), object(16)\n",
      "memory usage: 259.9+ KB\n"
     ]
    }
   ],
   "source": [
    "df1.info()"
   ]
  },
  {
   "cell_type": "code",
   "execution_count": 295,
   "metadata": {},
   "outputs": [
    {
     "name": "stdout",
     "output_type": "stream",
     "text": [
      "<class 'pandas.core.frame.DataFrame'>\n",
      "RangeIndex: 824 entries, 0 to 823\n",
      "Data columns (total 26 columns):\n",
      " #   Column                 Non-Null Count  Dtype  \n",
      "---  ------                 --------------  -----  \n",
      " 0   surgery                824 non-null    object \n",
      " 1   age                    824 non-null    object \n",
      " 2   rectal_temp            824 non-null    float64\n",
      " 3   pulse                  824 non-null    float64\n",
      " 4   respiratory_rate       824 non-null    float64\n",
      " 5   temp_of_extremities    789 non-null    object \n",
      " 6   peripheral_pulse       777 non-null    object \n",
      " 7   mucous_membrane        811 non-null    object \n",
      " 8   capillary_refill_time  818 non-null    object \n",
      " 9   pain                   795 non-null    object \n",
      " 10  peristalsis            805 non-null    object \n",
      " 11  abdominal_distention   802 non-null    object \n",
      " 12  nasogastric_tube       760 non-null    object \n",
      " 13  nasogastric_reflux     810 non-null    object \n",
      " 14  nasogastric_reflux_ph  824 non-null    float64\n",
      " 15  rectal_exam_feces      699 non-null    object \n",
      " 16  abdomen                670 non-null    object \n",
      " 17  packed_cell_volume     824 non-null    float64\n",
      " 18  total_protein          824 non-null    float64\n",
      " 19  abdomo_appearance      793 non-null    object \n",
      " 20  abdomo_protein         824 non-null    float64\n",
      " 21  surgical_lesion        824 non-null    object \n",
      " 22  lesion_1               824 non-null    int64  \n",
      " 23  lesion_2               824 non-null    int64  \n",
      " 24  lesion_3               824 non-null    int64  \n",
      " 25  cp_data                824 non-null    object \n",
      "dtypes: float64(7), int64(3), object(16)\n",
      "memory usage: 167.5+ KB\n"
     ]
    }
   ],
   "source": [
    "df2.info()"
   ]
  },
  {
   "cell_type": "code",
   "execution_count": 296,
   "metadata": {},
   "outputs": [],
   "source": [
    "categorical_features = []\n",
    "numerical_features = []\n",
    "for cols in df2:\n",
    "    if df2[cols].dtype == 'object':\n",
    "        categorical_features.append(cols)\n",
    "    else:\n",
    "        numerical_features.append(cols)"
   ]
  },
  {
   "cell_type": "code",
   "execution_count": 297,
   "metadata": {},
   "outputs": [
    {
     "data": {
      "text/plain": [
       "surgery                    0\n",
       "age                        0\n",
       "rectal_temp                0\n",
       "pulse                      0\n",
       "respiratory_rate           0\n",
       "temp_of_extremities       39\n",
       "peripheral_pulse          60\n",
       "mucous_membrane           21\n",
       "capillary_refill_time      6\n",
       "pain                      44\n",
       "peristalsis               20\n",
       "abdominal_distention      23\n",
       "nasogastric_tube          80\n",
       "nasogastric_reflux        21\n",
       "nasogastric_reflux_ph      0\n",
       "rectal_exam_feces        189\n",
       "abdomen                  213\n",
       "packed_cell_volume         0\n",
       "total_protein              0\n",
       "abdomo_appearance         48\n",
       "abdomo_protein             0\n",
       "surgical_lesion            0\n",
       "lesion_1                   0\n",
       "lesion_2                   0\n",
       "lesion_3                   0\n",
       "cp_data                    0\n",
       "dtype: int64"
      ]
     },
     "execution_count": 297,
     "metadata": {},
     "output_type": "execute_result"
    }
   ],
   "source": [
    "df1.isna().sum()"
   ]
  },
  {
   "cell_type": "code",
   "execution_count": 298,
   "metadata": {},
   "outputs": [
    {
     "data": {
      "text/plain": [
       "surgery                    0\n",
       "age                        0\n",
       "rectal_temp                0\n",
       "pulse                      0\n",
       "respiratory_rate           0\n",
       "temp_of_extremities       35\n",
       "peripheral_pulse          47\n",
       "mucous_membrane           13\n",
       "capillary_refill_time      6\n",
       "pain                      29\n",
       "peristalsis               19\n",
       "abdominal_distention      22\n",
       "nasogastric_tube          64\n",
       "nasogastric_reflux        14\n",
       "nasogastric_reflux_ph      0\n",
       "rectal_exam_feces        125\n",
       "abdomen                  154\n",
       "packed_cell_volume         0\n",
       "total_protein              0\n",
       "abdomo_appearance         31\n",
       "abdomo_protein             0\n",
       "surgical_lesion            0\n",
       "lesion_1                   0\n",
       "lesion_2                   0\n",
       "lesion_3                   0\n",
       "cp_data                    0\n",
       "dtype: int64"
      ]
     },
     "execution_count": 298,
     "metadata": {},
     "output_type": "execute_result"
    }
   ],
   "source": [
    "df2.isna().sum()"
   ]
  },
  {
   "cell_type": "code",
   "execution_count": 299,
   "metadata": {},
   "outputs": [],
   "source": [
    "for col in df1.columns:\n",
    "    if col in categorical_features:\n",
    "        mode_value = df1[col].mode()[0]  \n",
    "        df1[col].fillna(mode_value, inplace=True)  \n",
    "    else:\n",
    "        median_value = df1[col].median()  \n",
    "        df1[col].fillna(median_value, inplace=True) "
   ]
  },
  {
   "cell_type": "code",
   "execution_count": 300,
   "metadata": {},
   "outputs": [],
   "source": [
    "for col in df2.columns:\n",
    "    if col in categorical_features:\n",
    "        mode_value = df2[col].mode()[0]  \n",
    "        df2[col].fillna(mode_value, inplace=True)  \n",
    "    else:\n",
    "        median_value = df2[col].median()  \n",
    "        df2[col].fillna(median_value, inplace=True) "
   ]
  },
  {
   "cell_type": "code",
   "execution_count": 301,
   "metadata": {},
   "outputs": [],
   "source": [
    "import matplotlib.pyplot as plt\n",
    "import seaborn as sns"
   ]
  },
  {
   "cell_type": "code",
   "execution_count": 302,
   "metadata": {},
   "outputs": [
    {
     "name": "stderr",
     "output_type": "stream",
     "text": [
      "c:\\Users\\anshuman.kundu1\\AppData\\Local\\Programs\\Python\\Python311\\Lib\\site-packages\\seaborn\\_oldcore.py:1498: FutureWarning: is_categorical_dtype is deprecated and will be removed in a future version. Use isinstance(dtype, CategoricalDtype) instead\n",
      "  if pd.api.types.is_categorical_dtype(vector):\n",
      "c:\\Users\\anshuman.kundu1\\AppData\\Local\\Programs\\Python\\Python311\\Lib\\site-packages\\seaborn\\_oldcore.py:1498: FutureWarning: is_categorical_dtype is deprecated and will be removed in a future version. Use isinstance(dtype, CategoricalDtype) instead\n",
      "  if pd.api.types.is_categorical_dtype(vector):\n",
      "c:\\Users\\anshuman.kundu1\\AppData\\Local\\Programs\\Python\\Python311\\Lib\\site-packages\\seaborn\\_oldcore.py:1498: FutureWarning: is_categorical_dtype is deprecated and will be removed in a future version. Use isinstance(dtype, CategoricalDtype) instead\n",
      "  if pd.api.types.is_categorical_dtype(vector):\n",
      "c:\\Users\\anshuman.kundu1\\AppData\\Local\\Programs\\Python\\Python311\\Lib\\site-packages\\seaborn\\_oldcore.py:1498: FutureWarning: is_categorical_dtype is deprecated and will be removed in a future version. Use isinstance(dtype, CategoricalDtype) instead\n",
      "  if pd.api.types.is_categorical_dtype(vector):\n",
      "c:\\Users\\anshuman.kundu1\\AppData\\Local\\Programs\\Python\\Python311\\Lib\\site-packages\\seaborn\\_oldcore.py:1498: FutureWarning: is_categorical_dtype is deprecated and will be removed in a future version. Use isinstance(dtype, CategoricalDtype) instead\n",
      "  if pd.api.types.is_categorical_dtype(vector):\n"
     ]
    },
    {
     "data": {
      "image/png": "[encoded data removed]",
      "text/plain": [
       "<Figure size 1200x600 with 1 Axes>"
      ]
     },
     "metadata": {},
     "output_type": "display_data"
    }
   ],
   "source": [
    "plt.figure(figsize=(12, 6))\n",
    "sns.boxplot(data=df1[['rectal_temp', 'pulse', 'respiratory_rate', 'packed_cell_volume', 'total_protein']])\n",
    "plt.title('Box Plot of Numerical Features')\n",
    "plt.show()"
   ]
  },
  {
   "cell_type": "code",
   "execution_count": 303,
   "metadata": {},
   "outputs": [
    {
     "name": "stderr",
     "output_type": "stream",
     "text": [
      "c:\\Users\\anshuman.kundu1\\AppData\\Local\\Programs\\Python\\Python311\\Lib\\site-packages\\seaborn\\_oldcore.py:1498: FutureWarning: is_categorical_dtype is deprecated and will be removed in a future version. Use isinstance(dtype, CategoricalDtype) instead\n",
      "  if pd.api.types.is_categorical_dtype(vector):\n",
      "c:\\Users\\anshuman.kundu1\\AppData\\Local\\Programs\\Python\\Python311\\Lib\\site-packages\\seaborn\\_oldcore.py:1498: FutureWarning: is_categorical_dtype is deprecated and will be removed in a future version. Use isinstance(dtype, CategoricalDtype) instead\n",
      "  if pd.api.types.is_categorical_dtype(vector):\n",
      "c:\\Users\\anshuman.kundu1\\AppData\\Local\\Programs\\Python\\Python311\\Lib\\site-packages\\seaborn\\_oldcore.py:1498: FutureWarning: is_categorical_dtype is deprecated and will be removed in a future version. Use isinstance(dtype, CategoricalDtype) instead\n",
      "  if pd.api.types.is_categorical_dtype(vector):\n",
      "c:\\Users\\anshuman.kundu1\\AppData\\Local\\Programs\\Python\\Python311\\Lib\\site-packages\\seaborn\\_oldcore.py:1498: FutureWarning: is_categorical_dtype is deprecated and will be removed in a future version. Use isinstance(dtype, CategoricalDtype) instead\n",
      "  if pd.api.types.is_categorical_dtype(vector):\n",
      "c:\\Users\\anshuman.kundu1\\AppData\\Local\\Programs\\Python\\Python311\\Lib\\site-packages\\seaborn\\_oldcore.py:1498: FutureWarning: is_categorical_dtype is deprecated and will be removed in a future version. Use isinstance(dtype, CategoricalDtype) instead\n",
      "  if pd.api.types.is_categorical_dtype(vector):\n",
      "c:\\Users\\anshuman.kundu1\\AppData\\Local\\Programs\\Python\\Python311\\Lib\\site-packages\\seaborn\\_oldcore.py:1498: FutureWarning: is_categorical_dtype is deprecated and will be removed in a future version. Use isinstance(dtype, CategoricalDtype) instead\n",
      "  if pd.api.types.is_categorical_dtype(vector):\n",
      "c:\\Users\\anshuman.kundu1\\AppData\\Local\\Programs\\Python\\Python311\\Lib\\site-packages\\seaborn\\_oldcore.py:1498: FutureWarning: is_categorical_dtype is deprecated and will be removed in a future version. Use isinstance(dtype, CategoricalDtype) instead\n",
      "  if pd.api.types.is_categorical_dtype(vector):\n",
      "c:\\Users\\anshuman.kundu1\\AppData\\Local\\Programs\\Python\\Python311\\Lib\\site-packages\\seaborn\\_oldcore.py:1498: FutureWarning: is_categorical_dtype is deprecated and will be removed in a future version. Use isinstance(dtype, CategoricalDtype) instead\n",
      "  if pd.api.types.is_categorical_dtype(vector):\n",
      "c:\\Users\\anshuman.kundu1\\AppData\\Local\\Programs\\Python\\Python311\\Lib\\site-packages\\seaborn\\_oldcore.py:1498: FutureWarning: is_categorical_dtype is deprecated and will be removed in a future version. Use isinstance(dtype, CategoricalDtype) instead\n",
      "  if pd.api.types.is_categorical_dtype(vector):\n",
      "c:\\Users\\anshuman.kundu1\\AppData\\Local\\Programs\\Python\\Python311\\Lib\\site-packages\\seaborn\\_oldcore.py:1119: FutureWarning: use_inf_as_na option is deprecated and will be removed in a future version. Convert inf values to NaN before operating instead.\n",
      "  with pd.option_context('mode.use_inf_as_na', True):\n"
     ]
    },
    {
     "data": {
      "image/png": "[encoded data removed]",
      "text/plain": [
       "<Figure size 1200x600 with 1 Axes>"
      ]
     },
     "metadata": {},
     "output_type": "display_data"
    }
   ],
   "source": [
    "plt.figure(figsize=(12, 6))\n",
    "sns.histplot(data=df1[['rectal_temp', 'pulse', 'respiratory_rate', 'packed_cell_volume', 'total_protein']], bins=20, kde=True)\n",
    "plt.title('Distribution of Numerical Features')\n",
    "plt.show()"
   ]
  },
  {
   "cell_type": "code",
   "execution_count": 304,
   "metadata": {},
   "outputs": [
    {
     "name": "stdout",
     "output_type": "stream",
     "text": [
      "surgery ['yes' 'no']\n",
      "age ['adult' 'young']\n",
      "temp_of_extremities ['cool' 'cold' 'normal' 'warm']\n",
      "peripheral_pulse ['reduced' 'normal' 'absent' 'increased']\n",
      "mucous_membrane ['dark_cyanotic' 'pale_cyanotic' 'pale_pink' 'normal_pink' 'bright_pink'\n",
      " 'bright_red']\n",
      "capillary_refill_time ['more_3_sec' 'less_3_sec' '3']\n",
      "pain ['depressed' 'mild_pain' 'extreme_pain' 'alert' 'severe_pain' 'slight']\n",
      "peristalsis ['absent' 'hypomotile' 'normal' 'hypermotile']\n",
      "abdominal_distention ['slight' 'moderate' 'none' 'severe']\n",
      "nasogastric_tube ['slight' 'none' 'significant']\n",
      "nasogastric_reflux ['less_1_liter' 'more_1_liter' 'none']\n",
      "rectal_exam_feces ['decreased' 'absent' 'normal' 'increased']\n",
      "abdomen ['distend_small' 'distend_large' 'normal' 'firm' 'other']\n",
      "abdomo_appearance ['serosanguious' 'cloudy' 'clear']\n",
      "surgical_lesion ['yes' 'no']\n",
      "cp_data ['no' 'yes']\n"
     ]
    }
   ],
   "source": [
    "for cols in categorical_features:\n",
    "    print(cols, df1[cols].unique())"
   ]
  },
  {
   "cell_type": "code",
   "execution_count": 305,
   "metadata": {},
   "outputs": [
    {
     "name": "stdout",
     "output_type": "stream",
     "text": [
      "surgery ['no' 'yes']\n",
      "age ['adult' 'young']\n",
      "temp_of_extremities ['normal' 'cool' 'cold' 'warm']\n",
      "peripheral_pulse ['normal' 'reduced' 'absent' 'increased']\n",
      "mucous_membrane ['normal_pink' 'bright_pink' 'bright_red' 'pale_cyanotic' 'dark_cyanotic'\n",
      " 'pale_pink']\n",
      "capillary_refill_time ['less_3_sec' 'more_3_sec' '3']\n",
      "pain ['mild_pain' 'depressed' 'severe_pain' 'extreme_pain' 'moderate' 'alert']\n",
      "peristalsis ['hypomotile' 'absent' 'hypermotile' 'normal']\n",
      "abdominal_distention ['slight' 'moderate' 'severe' 'none']\n",
      "nasogastric_tube ['none' 'slight' 'significant']\n",
      "nasogastric_reflux ['none' 'more_1_liter' 'less_1_liter']\n",
      "rectal_exam_feces ['normal' 'decreased' 'absent' 'increased']\n",
      "abdomen ['distend_small' 'distend_large' 'other' 'firm' 'normal']\n",
      "abdomo_appearance ['clear' 'serosanguious' 'cloudy']\n",
      "surgical_lesion ['no' 'yes']\n",
      "cp_data ['no' 'yes']\n"
     ]
    }
   ],
   "source": [
    "for cols in categorical_features:\n",
    "    print(cols, df2[cols].unique())"
   ]
  },
  {
   "cell_type": "code",
   "execution_count": 306,
   "metadata": {},
   "outputs": [],
   "source": [
    "category_mapping = {\n",
    "    'surgery': {'yes': 0, 'no': 1},\n",
    "    'age': {'adult': 0, 'young': 1},\n",
    "    'temp_of_extremities': {'cool': 0, 'cold': 1, 'normal': 2, 'warm': 3},\n",
    "    'peripheral_pulse': {'reduced': 0, 'normal': 1, 'absent': 2, 'increased': 3},\n",
    "    'mucous_membrane': {\n",
    "        'dark_cyanotic': 0, 'pale_cyanotic': 1, 'pale_pink': 2,\n",
    "        'normal_pink': 3, 'bright_pink': 4, 'bright_red': 5\n",
    "    },\n",
    "    'capillary_refill_time': {'more_3_sec': 0, 'less_3_sec': 1, '3': 2},\n",
    "    'pain': {'depressed': 0, 'mild_pain': 1, 'extreme_pain': 2, 'alert': 3, 'severe_pain': 4, 'slight': 5, 'moderate': 5},\n",
    "    'peristalsis': {'absent': 0, 'hypomotile': 1, 'normal': 2, 'hypermotile': 3, 'distend_small': 4},\n",
    "    'abdominal_distention': {'slight': 0, 'moderate': 1, 'none': 2, 'severe': 3},\n",
    "    'nasogastric_tube': {'slight': 0, 'none': 1, 'significant': 2},\n",
    "    'nasogastric_reflux': {'less_1_liter': 0, 'more_1_liter': 1, 'none': 2, 'slight': 3},\n",
    "    'rectal_exam_feces': {'decreased': 0, 'absent': 1, 'normal': 2, 'increased': 3, 'serosanguious': 4},\n",
    "    'abdomen': {'distend_small': 0, 'distend_large': 1, 'normal': 2, 'firm': 3, 'other': 4},\n",
    "    'abdomo_appearance': {'serosanguious': 0, 'cloudy': 1, 'clear': 2},\n",
    "    'surgical_lesion': {'yes': 0, 'no': 1},\n",
    "    'cp_data': {'no': 0, 'yes': 1}\n",
    "}\n",
    "\n",
    "\n",
    "df1.replace(category_mapping, inplace=True)\n",
    "df2.replace(category_mapping, inplace=True)"
   ]
  },
  {
   "cell_type": "code",
   "execution_count": 307,
   "metadata": {},
   "outputs": [],
   "source": [
    "train_X = df1\n",
    "test_X = df2"
   ]
  },
  {
   "cell_type": "code",
   "execution_count": 308,
   "metadata": {},
   "outputs": [
    {
     "data": {
      "text/plain": [
       "(1232, 26)"
      ]
     },
     "execution_count": 308,
     "metadata": {},
     "output_type": "execute_result"
    }
   ],
   "source": [
    "train_X.shape"
   ]
  },
  {
   "cell_type": "code",
   "execution_count": 309,
   "metadata": {},
   "outputs": [
    {
     "data": {
      "text/plain": [
       "(824, 26)"
      ]
     },
     "execution_count": 309,
     "metadata": {},
     "output_type": "execute_result"
    }
   ],
   "source": [
    "test_X.shape"
   ]
  },
  {
   "cell_type": "code",
   "execution_count": 310,
   "metadata": {},
   "outputs": [],
   "source": [
    "from sklearn.preprocessing import StandardScaler\n",
    "from sklearn.compose import ColumnTransformer\n",
    "\n",
    "ct = ColumnTransformer([\n",
    "    ('StandardScaling', StandardScaler(), numerical_features)\n",
    "], remainder='passthrough')\n",
    "train_X = ct.fit_transform(train_X)\n",
    "test_X = ct.transform(test_X)"
   ]
  },
  {
   "cell_type": "code",
   "execution_count": 311,
   "metadata": {},
   "outputs": [
    {
     "data": {
      "text/plain": [
       "(1232,)"
      ]
     },
     "execution_count": 311,
     "metadata": {},
     "output_type": "execute_result"
    }
   ],
   "source": [
    "y = train_df['outcome']\n",
    "y.shape"
   ]
  },
  {
   "cell_type": "code",
   "execution_count": 312,
   "metadata": {},
   "outputs": [
    {
     "data": {
      "text/plain": [
       "(1232, 26)"
      ]
     },
     "execution_count": 312,
     "metadata": {},
     "output_type": "execute_result"
    }
   ],
   "source": [
    "train_X.shape"
   ]
  },
  {
   "cell_type": "code",
   "execution_count": 313,
   "metadata": {},
   "outputs": [
    {
     "data": {
      "text/plain": [
       "(824, 26)"
      ]
     },
     "execution_count": 313,
     "metadata": {},
     "output_type": "execute_result"
    }
   ],
   "source": [
    "test_X.shape"
   ]
  },
  {
   "cell_type": "code",
   "execution_count": 314,
   "metadata": {},
   "outputs": [],
   "source": [
    "from sklearn.linear_model import LogisticRegression\n",
    "from sklearn.tree import DecisionTreeClassifier\n",
    "from sklearn.ensemble import RandomForestClassifier, AdaBoostClassifier\n",
    "from xgboost import XGBClassifier\n",
    "from catboost import CatBoostClassifier\n",
    "from lightgbm import LGBMClassifier\n",
    "from sklearn.svm import SVC\n",
    "from sklearn.naive_bayes import GaussianNB\n",
    "from sklearn.neighbors import KNeighborsClassifier\n",
    "\n",
    "models = {\n",
    "    'Logistic Regression': LogisticRegression(max_iter=1000, random_state=42),\n",
    "    'Decision Tree': DecisionTreeClassifier(random_state=42),\n",
    "    'Random Forest': RandomForestClassifier(n_estimators=100, random_state=42),\n",
    "    'Gradient Boosting (XGBoost)': XGBClassifier(n_estimators=100, random_state=42),\n",
    "    'Gradient Boosting (LightGBM)': LGBMClassifier(n_estimators=100, random_state=42),\n",
    "    'Gradient Boosting (CatBoost)': CatBoostClassifier(iterations=100, random_state=42, verbose=0),\n",
    "    'Support Vector Machine (SVM)': SVC(kernel='rbf', C=1.0, random_state=42),\n",
    "    'Naive Bayes': GaussianNB(),\n",
    "    'K-Nearest Neighbors (KNN)': KNeighborsClassifier(n_neighbors=5),\n",
    "    'Ensemble': AdaBoostClassifier(n_estimators=50, random_state=42)\n",
    "}\n"
   ]
  },
  {
   "cell_type": "code",
   "execution_count": 315,
   "metadata": {},
   "outputs": [],
   "source": [
    "from sklearn.model_selection import train_test_split\n",
    "X_train, X_test, y_train, y_test = train_test_split(train_X, y, test_size=0.2, random_state=42)"
   ]
  },
  {
   "cell_type": "code",
   "execution_count": 321,
   "metadata": {},
   "outputs": [
    {
     "name": "stdout",
     "output_type": "stream",
     "text": [
      "Logistic Regression has scores as: Accuracy - 0.582995951417004, Precision - 0.6033920566571892, Recall - 0.582995951417004, F1 Score - 0.5843263893569467\n",
      "Decision Tree has scores as: Accuracy - 0.5951417004048583, Precision - 0.6020420891678737, Recall - 0.5951417004048583, F1 Score - 0.5971055762384304\n",
      "Random Forest has scores as: Accuracy - 0.659919028340081, Precision - 0.6779821955489106, Recall - 0.659919028340081, F1 Score - 0.6621970507819989\n",
      "Gradient Boosting (XGBoost) has scores as: Accuracy - 0.6639676113360324, Precision - 0.6767009394871204, Recall - 0.6639676113360324, F1 Score - 0.6662559836579993\n",
      "[LightGBM] [Info] Auto-choosing row-wise multi-threading, the overhead of testing was 0.000127 seconds.\n",
      "You can set `force_row_wise=true` to remove the overhead.\n",
      "And if memory is not enough, you can set `force_col_wise=true`.\n",
      "[LightGBM] [Info] Total Bins 380\n",
      "[LightGBM] [Info] Number of data points in the train set: 985, number of used features: 24\n",
      "[LightGBM] [Info] Start training from score -1.087507\n",
      "[LightGBM] [Info] Start training from score -1.599337\n",
      "[LightGBM] [Info] Start training from score -0.774544\n",
      "[LightGBM] [Warning] No further splits with positive gain, best gain: -inf\n"
     ]
    },
    {
     "name": "stderr",
     "output_type": "stream",
     "text": [
      "c:\\Users\\anshuman.kundu1\\AppData\\Local\\Programs\\Python\\Python311\\Lib\\site-packages\\xgboost\\data.py:520: FutureWarning: is_sparse is deprecated and will be removed in a future version. Check `isinstance(dtype, pd.SparseDtype)` instead.\n",
      "  if is_sparse(data):\n"
     ]
    },
    {
     "name": "stdout",
     "output_type": "stream",
     "text": [
      "Gradient Boosting (LightGBM) has scores as: Accuracy - 0.6720647773279352, Precision - 0.6776465327127097, Recall - 0.6720647773279352, F1 Score - 0.6723248391968687\n",
      "Gradient Boosting (CatBoost) has scores as: Accuracy - 0.6882591093117408, Precision - 0.6938788715388412, Recall - 0.6882591093117408, F1 Score - 0.6895058862242914\n",
      "Support Vector Machine (SVM) has scores as: Accuracy - 0.6477732793522267, Precision - 0.6636387620728521, Recall - 0.6477732793522267, F1 Score - 0.6478861534575405\n",
      "Naive Bayes has scores as: Accuracy - 0.3967611336032389, Precision - 0.3405292390599779, Recall - 0.3967611336032389, F1 Score - 0.2712888229675565\n",
      "K-Nearest Neighbors (KNN) has scores as: Accuracy - 0.6153846153846154, Precision - 0.6470155702421149, Recall - 0.6153846153846154, F1 Score - 0.6165596896381857\n",
      "Ensemble has scores as: Accuracy - 0.6639676113360324, Precision - 0.6828195208087995, Recall - 0.6639676113360324, F1 Score - 0.6646690456759107\n"
     ]
    }
   ],
   "source": [
    "from sklearn.metrics import accuracy_score as acc_score, precision_score as prec_score, recall_score as rec_score, f1_score as f1\n",
    "\n",
    "model_list = []\n",
    "accuracy_list = []\n",
    "\n",
    "for i in range(len(list(models))):\n",
    "    model = list(models.values())[i]\n",
    "    model_name = list(models.keys())[i]\n",
    "    model.fit(X_train, y_train)\n",
    "    y_test_pred = model.predict(X_test)\n",
    "    model_list.append(model_name)\n",
    "    accuracy = acc_score(y_test, y_test_pred)\n",
    "    precision = prec_score(y_test, y_test_pred, average='weighted')\n",
    "    recall = rec_score(y_test, y_test_pred, average='weighted')\n",
    "    f1_score = f1(y_test, y_test_pred, average='weighted')\n",
    "    accuracy_list.append(accuracy)\n",
    "    print(f\"{model_name} has scores as: Accuracy - {accuracy}, Precision - {precision}, Recall - {recall}, F1 Score - {f1_score}\")\n"
   ]
  },
  {
   "cell_type": "code",
   "execution_count": 327,
   "metadata": {},
   "outputs": [
    {
     "data": {
      "text/html": [
       "<div>\n",
       "<style scoped>\n",
       "    .dataframe tbody tr th:only-of-type {\n",
       "        vertical-align: middle;\n",
       "    }\n",
       "\n",
       "    .dataframe tbody tr th {\n",
       "        vertical-align: top;\n",
       "    }\n",
       "\n",
       "    .dataframe thead th {\n",
       "        text-align: right;\n",
       "    }\n",
       "</style>\n",
       "<table border=\"1\" class=\"dataframe\">\n",
       "  <thead>\n",
       "    <tr style=\"text-align: right;\">\n",
       "      <th></th>\n",
       "      <th>Model Name</th>\n",
       "      <th>Accuracy</th>\n",
       "    </tr>\n",
       "  </thead>\n",
       "  <tbody>\n",
       "    <tr>\n",
       "      <th>5</th>\n",
       "      <td>Gradient Boosting (CatBoost)</td>\n",
       "      <td>0.688259</td>\n",
       "    </tr>\n",
       "    <tr>\n",
       "      <th>4</th>\n",
       "      <td>Gradient Boosting (LightGBM)</td>\n",
       "      <td>0.672065</td>\n",
       "    </tr>\n",
       "    <tr>\n",
       "      <th>3</th>\n",
       "      <td>Gradient Boosting (XGBoost)</td>\n",
       "      <td>0.663968</td>\n",
       "    </tr>\n",
       "    <tr>\n",
       "      <th>9</th>\n",
       "      <td>Ensemble</td>\n",
       "      <td>0.663968</td>\n",
       "    </tr>\n",
       "    <tr>\n",
       "      <th>2</th>\n",
       "      <td>Random Forest</td>\n",
       "      <td>0.659919</td>\n",
       "    </tr>\n",
       "    <tr>\n",
       "      <th>6</th>\n",
       "      <td>Support Vector Machine (SVM)</td>\n",
       "      <td>0.647773</td>\n",
       "    </tr>\n",
       "    <tr>\n",
       "      <th>8</th>\n",
       "      <td>K-Nearest Neighbors (KNN)</td>\n",
       "      <td>0.615385</td>\n",
       "    </tr>\n",
       "    <tr>\n",
       "      <th>1</th>\n",
       "      <td>Decision Tree</td>\n",
       "      <td>0.595142</td>\n",
       "    </tr>\n",
       "    <tr>\n",
       "      <th>0</th>\n",
       "      <td>Logistic Regression</td>\n",
       "      <td>0.582996</td>\n",
       "    </tr>\n",
       "    <tr>\n",
       "      <th>7</th>\n",
       "      <td>Naive Bayes</td>\n",
       "      <td>0.396761</td>\n",
       "    </tr>\n",
       "  </tbody>\n",
       "</table>\n",
       "</div>"
      ],
      "text/plain": [
       "                     Model Name  Accuracy\n",
       "5  Gradient Boosting (CatBoost)  0.688259\n",
       "4  Gradient Boosting (LightGBM)  0.672065\n",
       "3   Gradient Boosting (XGBoost)  0.663968\n",
       "9                      Ensemble  0.663968\n",
       "2                 Random Forest  0.659919\n",
       "6  Support Vector Machine (SVM)  0.647773\n",
       "8     K-Nearest Neighbors (KNN)  0.615385\n",
       "1                 Decision Tree  0.595142\n",
       "0           Logistic Regression  0.582996\n",
       "7                   Naive Bayes  0.396761"
      ]
     },
     "execution_count": 327,
     "metadata": {},
     "output_type": "execute_result"
    }
   ],
   "source": [
    "model_evaluation = pd.DataFrame({'Model Name':model_list, 'Accuracy':accuracy_list})\n",
    "model_evaluation = model_evaluation.sort_values(by=['Accuracy'], ascending=False)\n",
    "model_evaluation"
   ]
  },
  {
   "cell_type": "code",
   "execution_count": 328,
   "metadata": {},
   "outputs": [
    {
     "data": {
      "text/html": [
       "<style>#sk-container-id-2 {color: black;}#sk-container-id-2 pre{padding: 0;}#sk-container-id-2 div.sk-toggleable {background-color: white;}#sk-container-id-2 label.sk-toggleable__label {cursor: pointer;display: block;width: 100%;margin-bottom: 0;padding: 0.3em;box-sizing: border-box;text-align: center;}#sk-container-id-2 label.sk-toggleable__label-arrow:before {content: \"▸\";float: left;margin-right: 0.25em;color: #696969;}#sk-container-id-2 label.sk-toggleable__label-arrow:hover:before {color: black;}#sk-container-id-2 div.sk-estimator:hover label.sk-toggleable__label-arrow:before {color: black;}#sk-container-id-2 div.sk-toggleable__content {max-height: 0;max-width: 0;overflow: hidden;text-align: left;background-color: #f0f8ff;}#sk-container-id-2 div.sk-toggleable__content pre {margin: 0.2em;color: black;border-radius: 0.25em;background-color: #f0f8ff;}#sk-container-id-2 input.sk-toggleable__control:checked~div.sk-toggleable__content {max-height: 200px;max-width: 100%;overflow: auto;}#sk-container-id-2 input.sk-toggleable__control:checked~label.sk-toggleable__label-arrow:before {content: \"▾\";}#sk-container-id-2 div.sk-estimator input.sk-toggleable__control:checked~label.sk-toggleable__label {background-color: #d4ebff;}#sk-container-id-2 div.sk-label input.sk-toggleable__control:checked~label.sk-toggleable__label {background-color: #d4ebff;}#sk-container-id-2 input.sk-hidden--visually {border: 0;clip: rect(1px 1px 1px 1px);clip: rect(1px, 1px, 1px, 1px);height: 1px;margin: -1px;overflow: hidden;padding: 0;position: absolute;width: 1px;}#sk-container-id-2 div.sk-estimator {font-family: monospace;background-color: #f0f8ff;border: 1px dotted black;border-radius: 0.25em;box-sizing: border-box;margin-bottom: 0.5em;}#sk-container-id-2 div.sk-estimator:hover {background-color: #d4ebff;}#sk-container-id-2 div.sk-parallel-item::after {content: \"\";width: 100%;border-bottom: 1px solid gray;flex-grow: 1;}#sk-container-id-2 div.sk-label:hover label.sk-toggleable__label {background-color: #d4ebff;}#sk-container-id-2 div.sk-serial::before {content: \"\";position: absolute;border-left: 1px solid gray;box-sizing: border-box;top: 0;bottom: 0;left: 50%;z-index: 0;}#sk-container-id-2 div.sk-serial {display: flex;flex-direction: column;align-items: center;background-color: white;padding-right: 0.2em;padding-left: 0.2em;position: relative;}#sk-container-id-2 div.sk-item {position: relative;z-index: 1;}#sk-container-id-2 div.sk-parallel {display: flex;align-items: stretch;justify-content: center;background-color: white;position: relative;}#sk-container-id-2 div.sk-item::before, #sk-container-id-2 div.sk-parallel-item::before {content: \"\";position: absolute;border-left: 1px solid gray;box-sizing: border-box;top: 0;bottom: 0;left: 50%;z-index: -1;}#sk-container-id-2 div.sk-parallel-item {display: flex;flex-direction: column;z-index: 1;position: relative;background-color: white;}#sk-container-id-2 div.sk-parallel-item:first-child::after {align-self: flex-end;width: 50%;}#sk-container-id-2 div.sk-parallel-item:last-child::after {align-self: flex-start;width: 50%;}#sk-container-id-2 div.sk-parallel-item:only-child::after {width: 0;}#sk-container-id-2 div.sk-dashed-wrapped {border: 1px dashed gray;margin: 0 0.4em 0.5em 0.4em;box-sizing: border-box;padding-bottom: 0.4em;background-color: white;}#sk-container-id-2 div.sk-label label {font-family: monospace;font-weight: bold;display: inline-block;line-height: 1.2em;}#sk-container-id-2 div.sk-label-container {text-align: center;}#sk-container-id-2 div.sk-container {/* jupyter's `normalize.less` sets `[hidden] { display: none; }` but bootstrap.min.css set `[hidden] { display: none !important; }` so we also need the `!important` here to be able to override the default hidden behavior on the sphinx rendered scikit-learn.org. See: https://github.com/scikit-learn/scikit-learn/issues/21755 */display: inline-block !important;position: relative;}#sk-container-id-2 div.sk-text-repr-fallback {display: none;}</style><div id=\"sk-container-id-2\" class=\"sk-top-container\"><div class=\"sk-text-repr-fallback\"><pre>RandomForestClassifier()</pre><b>In a Jupyter environment, please rerun this cell to show the HTML representation or trust the notebook. <br />On GitHub, the HTML representation is unable to render, please try loading this page with nbviewer.org.</b></div><div class=\"sk-container\" hidden><div class=\"sk-item\"><div class=\"sk-estimator sk-toggleable\"><input class=\"sk-toggleable__control sk-hidden--visually\" id=\"sk-estimator-id-2\" type=\"checkbox\" checked><label for=\"sk-estimator-id-2\" class=\"sk-toggleable__label sk-toggleable__label-arrow\">RandomForestClassifier</label><div class=\"sk-toggleable__content\"><pre>RandomForestClassifier()</pre></div></div></div></div></div>"
      ],
      "text/plain": [
       "RandomForestClassifier()"
      ]
     },
     "execution_count": 328,
     "metadata": {},
     "output_type": "execute_result"
    }
   ],
   "source": [
    "best_model = RandomForestClassifier()\n",
    "best_model.fit(train_X, y)"
   ]
  },
  {
   "cell_type": "code",
   "execution_count": 333,
   "metadata": {},
   "outputs": [],
   "source": [
    "predictions = best_model.predict(test_X)\n",
    "prediction_mapping = {0: 'died', 1: 'euthanized', 2: 'lived'}\n",
    "predicted_labels = [prediction_mapping[pred] for pred in predictions]\n",
    "submission_df = pd.DataFrame({'Predicted_Outcome': predicted_labels})\n",
    "start_id = 1235\n",
    "ids = range(start_id, start_id + len(predicted_labels))\n",
    "submission_df = pd.DataFrame({'id': ids, 'Outcome': predicted_labels})\n",
    "submission_df.to_csv('submissions.csv', index=False)"
   ]
  }
 ],
 "metadata": {
  "kernelspec": {
   "display_name": "Python 3",
   "language": "python",
   "name": "python3"
  },
  "language_info": {
   "codemirror_mode": {
    "name": "ipython",
    "version": 3
   },
   "file_extension": ".py",
   "mimetype": "text/x-python",
   "name": "python",
   "nbconvert_exporter": "python",
   "pygments_lexer": "ipython3",
   "version": "3.11.5"
  },
  "orig_nbformat": 4
 },
 "nbformat": 4,
 "nbformat_minor": 2
}
